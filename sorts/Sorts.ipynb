{
 "cells": [
  {
   "cell_type": "code",
   "execution_count": 3,
   "metadata": {},
   "outputs": [],
   "source": [
    "def bubble_sort(inp):\n",
    "    end = len(inp)\n",
    "    for i in range(end):\n",
    "        for j in range(i+1, end):\n",
    "            if inp[i] > inp[j]:\n",
    "                inp[i], inp[j] = inp[j], inp[i]\n",
    "    return inp\n"
   ]
  },
  {
   "cell_type": "code",
   "execution_count": 9,
   "metadata": {},
   "outputs": [
    {
     "name": "stdout",
     "output_type": "stream",
     "text": [
      "Tests passed successfully.\n"
     ]
    }
   ],
   "source": [
    "import random\n",
    "def test_sort(sort_alg):\n",
    "    assert sort_alg([1,2,3,4,5,6]) == [1,2,3,4,5,6]\n",
    "    assert sort_alg([9,8,7,6,5,4,3]) == sorted([9,8,7,6,5,4,3])\n",
    "    assert sort_alg([]) == []\n",
    "    assert sort_alg([1]) == [1]\n",
    "    assert sort_alg([0,1]) == [0,1]\n",
    "    assert sort_alg([1,0]) == [0,1]\n",
    "    assert sort_alg([-10,-3,-4,1,3,11]) == sorted([-10,-3,-4,1,3,11])\n",
    "    l = list(range(100))\n",
    "    random.shuffle(l)\n",
    "    assert sort_alg(l) == list(range(100))\n",
    "    print(\"Tests passed successfully.\")\n",
    "test_sort(bubble_sort)"
   ]
  },
  {
   "cell_type": "code",
   "execution_count": 10,
   "metadata": {},
   "outputs": [],
   "source": [
    "def insertion_sort(inp):\n",
    "    for i in range(len(inp)):\n",
    "        current = inp[i]\n",
    "        indx = i\n",
    "        while indx > 0 and inp[indx-1] > current:\n",
    "            inp[indx] = inp[indx-1]\n",
    "            indx -= 1\n",
    "        inp[indx] = current\n",
    "    return inp\n"
   ]
  },
  {
   "cell_type": "code",
   "execution_count": 11,
   "metadata": {},
   "outputs": [
    {
     "name": "stdout",
     "output_type": "stream",
     "text": [
      "Tests passed successfully.\n"
     ]
    }
   ],
   "source": [
    "test_sort(insertion_sort)"
   ]
  },
  {
   "cell_type": "code",
   "execution_count": 23,
   "metadata": {},
   "outputs": [],
   "source": [
    "def merge_sort(inp):\n",
    "    if len(inp) <= 1:\n",
    "        return inp.copy()\n",
    "    mid = int(len(inp) / 2)\n",
    "    first = merge_sort(inp[:mid])\n",
    "    last = merge_sort(inp[mid:])\n",
    "    return merge(first, last)\n",
    "\n",
    "\n",
    "def merge(inp1, inp2):\n",
    "    merged = []\n",
    "    i, j = 0, 0\n",
    "    while i < len(inp1)  and j < len(inp2):\n",
    "        if inp1[i] <= inp2[j]:\n",
    "            merged.append(inp1[i])\n",
    "            i += 1\n",
    "        else:\n",
    "            merged.append(inp2[j])\n",
    "            j += 1\n",
    "    merged.extend(inp1[i:])\n",
    "    merged.extend(inp2[j:])\n",
    "    return merged"
   ]
  },
  {
   "cell_type": "code",
   "execution_count": 24,
   "metadata": {},
   "outputs": [
    {
     "name": "stdout",
     "output_type": "stream",
     "text": [
      "Tests passed successfully.\n"
     ]
    }
   ],
   "source": [
    "test_sort(merge_sort)"
   ]
  },
  {
   "cell_type": "code",
   "execution_count": 46,
   "metadata": {},
   "outputs": [],
   "source": [
    "def quick_sort_indx(inp, lo, hi):\n",
    "    \"\"\"Sorts inp list according to quick sort from index lo to index hi (inclusive).\"\"\"\n",
    "    if hi - lo < 1:\n",
    "        return inp\n",
    "\n",
    "    piv_index = partition(inp, lo, hi)\n",
    "    quick_sort_indx(inp, lo, piv_index - 1)\n",
    "    quick_sort_indx(inp, piv_index + 1, hi)\n",
    "    return inp\n",
    "\n",
    "\n",
    "def partition(inp, lo, hi):\n",
    "    piv = inp[lo]\n",
    "    index = lo\n",
    "    for current in range(lo, hi + 1):\n",
    "        if inp[current] < piv:\n",
    "            index += 1\n",
    "            inp[current], inp[index] = inp[index], inp[current]\n",
    "    inp[index], inp[lo] = inp[lo], inp[index]\n",
    "    return index\n",
    "\n",
    "\n",
    "def quick_sort(inp):\n",
    "    return quick_sort_indx(inp, 0, len(inp)-1)"
   ]
  },
  {
   "cell_type": "code",
   "execution_count": 47,
   "metadata": {},
   "outputs": [
    {
     "name": "stdout",
     "output_type": "stream",
     "text": [
      "Tests passed successfully.\n"
     ]
    }
   ],
   "source": [
    "test_sort(quick_sort)"
   ]
  },
  {
   "cell_type": "code",
   "execution_count": null,
   "metadata": {},
   "outputs": [],
   "source": []
  }
 ],
 "metadata": {
  "kernelspec": {
   "display_name": "Python 3",
   "language": "python",
   "name": "python3"
  },
  "language_info": {
   "codemirror_mode": {
    "name": "ipython",
    "version": 3
   },
   "file_extension": ".py",
   "mimetype": "text/x-python",
   "name": "python",
   "nbconvert_exporter": "python",
   "pygments_lexer": "ipython3",
   "version": "3.5.2"
  }
 },
 "nbformat": 4,
 "nbformat_minor": 2
}
